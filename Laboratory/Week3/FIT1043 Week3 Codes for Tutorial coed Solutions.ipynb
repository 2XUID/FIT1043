{
 "cells": [
  {
   "cell_type": "markdown",
   "metadata": {},
   "source": [
    "# Week 3 Advanced Aggregation\n",
    "\n",
    "In this activity, we look at 1) more sophisticated group-by operations and 2) data visualisation.\n",
    "\n",
    "Load the titanic data (titanic.csv) into a pandas DataFrame called ‘titanic’ using Pandas and print out the first 5 rows:\n"
   ]
  },
  {
   "cell_type": "code",
   "execution_count": 22,
   "metadata": {
    "scrolled": true
   },
   "outputs": [
    {
     "data": {
      "text/html": [
       "<div>\n",
       "<style scoped>\n",
       "    .dataframe tbody tr th:only-of-type {\n",
       "        vertical-align: middle;\n",
       "    }\n",
       "\n",
       "    .dataframe tbody tr th {\n",
       "        vertical-align: top;\n",
       "    }\n",
       "\n",
       "    .dataframe thead th {\n",
       "        text-align: right;\n",
       "    }\n",
       "</style>\n",
       "<table border=\"1\" class=\"dataframe\">\n",
       "  <thead>\n",
       "    <tr style=\"text-align: right;\">\n",
       "      <th></th>\n",
       "      <th>survived</th>\n",
       "      <th>pclass</th>\n",
       "      <th>sex</th>\n",
       "      <th>age</th>\n",
       "      <th>sibsp</th>\n",
       "      <th>parch</th>\n",
       "      <th>fare</th>\n",
       "      <th>embarked</th>\n",
       "      <th>class</th>\n",
       "      <th>who</th>\n",
       "      <th>adult_male</th>\n",
       "      <th>deck</th>\n",
       "      <th>embark_town</th>\n",
       "      <th>alive</th>\n",
       "      <th>alone</th>\n",
       "    </tr>\n",
       "  </thead>\n",
       "  <tbody>\n",
       "    <tr>\n",
       "      <th>0</th>\n",
       "      <td>0</td>\n",
       "      <td>3</td>\n",
       "      <td>male</td>\n",
       "      <td>22.0</td>\n",
       "      <td>1</td>\n",
       "      <td>0</td>\n",
       "      <td>7.2500</td>\n",
       "      <td>S</td>\n",
       "      <td>Third</td>\n",
       "      <td>man</td>\n",
       "      <td>True</td>\n",
       "      <td>NaN</td>\n",
       "      <td>Southampton</td>\n",
       "      <td>no</td>\n",
       "      <td>False</td>\n",
       "    </tr>\n",
       "    <tr>\n",
       "      <th>1</th>\n",
       "      <td>1</td>\n",
       "      <td>1</td>\n",
       "      <td>female</td>\n",
       "      <td>38.0</td>\n",
       "      <td>1</td>\n",
       "      <td>0</td>\n",
       "      <td>71.2833</td>\n",
       "      <td>C</td>\n",
       "      <td>First</td>\n",
       "      <td>woman</td>\n",
       "      <td>False</td>\n",
       "      <td>C</td>\n",
       "      <td>Cherbourg</td>\n",
       "      <td>yes</td>\n",
       "      <td>False</td>\n",
       "    </tr>\n",
       "    <tr>\n",
       "      <th>2</th>\n",
       "      <td>1</td>\n",
       "      <td>3</td>\n",
       "      <td>female</td>\n",
       "      <td>26.0</td>\n",
       "      <td>0</td>\n",
       "      <td>0</td>\n",
       "      <td>7.9250</td>\n",
       "      <td>S</td>\n",
       "      <td>Third</td>\n",
       "      <td>woman</td>\n",
       "      <td>False</td>\n",
       "      <td>NaN</td>\n",
       "      <td>Southampton</td>\n",
       "      <td>yes</td>\n",
       "      <td>True</td>\n",
       "    </tr>\n",
       "    <tr>\n",
       "      <th>3</th>\n",
       "      <td>1</td>\n",
       "      <td>1</td>\n",
       "      <td>female</td>\n",
       "      <td>35.0</td>\n",
       "      <td>1</td>\n",
       "      <td>0</td>\n",
       "      <td>53.1000</td>\n",
       "      <td>S</td>\n",
       "      <td>First</td>\n",
       "      <td>woman</td>\n",
       "      <td>False</td>\n",
       "      <td>C</td>\n",
       "      <td>Southampton</td>\n",
       "      <td>yes</td>\n",
       "      <td>False</td>\n",
       "    </tr>\n",
       "    <tr>\n",
       "      <th>4</th>\n",
       "      <td>0</td>\n",
       "      <td>3</td>\n",
       "      <td>male</td>\n",
       "      <td>35.0</td>\n",
       "      <td>0</td>\n",
       "      <td>0</td>\n",
       "      <td>8.0500</td>\n",
       "      <td>S</td>\n",
       "      <td>Third</td>\n",
       "      <td>man</td>\n",
       "      <td>True</td>\n",
       "      <td>NaN</td>\n",
       "      <td>Southampton</td>\n",
       "      <td>no</td>\n",
       "      <td>True</td>\n",
       "    </tr>\n",
       "  </tbody>\n",
       "</table>\n",
       "</div>"
      ],
      "text/plain": [
       "   survived  pclass     sex   age  sibsp  parch     fare embarked  class  \\\n",
       "0         0       3    male  22.0      1      0   7.2500        S  Third   \n",
       "1         1       1  female  38.0      1      0  71.2833        C  First   \n",
       "2         1       3  female  26.0      0      0   7.9250        S  Third   \n",
       "3         1       1  female  35.0      1      0  53.1000        S  First   \n",
       "4         0       3    male  35.0      0      0   8.0500        S  Third   \n",
       "\n",
       "     who  adult_male deck  embark_town alive  alone  \n",
       "0    man        True  NaN  Southampton    no  False  \n",
       "1  woman       False    C    Cherbourg   yes  False  \n",
       "2  woman       False  NaN  Southampton   yes   True  \n",
       "3  woman       False    C  Southampton   yes  False  \n",
       "4    man        True  NaN  Southampton    no   True  "
      ]
     },
     "execution_count": 22,
     "metadata": {},
     "output_type": "execute_result"
    }
   ],
   "source": [
    "import pandas as pd\n",
    "titanic = pd.read_csv('titanic.csv')\n",
    "titanic.head()"
   ]
  },
  {
   "cell_type": "markdown",
   "metadata": {},
   "source": [
    "# 1. Data Aggregation\n",
    "\n",
    "## 1.1 Multiple aggregation operations\n",
    "\n",
    "Last week we learnt how to perform aggregation operations to compute the mean or sum on individual columns. We also learnt how to group the data according to certain attributes prior to performing the aggregation. \n",
    "\n",
    "Oftentimes we'd like to compute multiple aggregation operations at the same time. Here is an example where we compute statistics on multiple columns at once. (Note that you could also use the method to compute different aggregation functions on the same column of data.)\n",
    "\n",
    "We specify the set of aggregation operations we wish to perform by detailing:\n",
    "\n",
    "the columns the aggregation should be applied to (in this case the two columns are 'who' and 'age'), \n",
    "the name of the resulting new columns (we'll call them 'passengers' and 'average age'), and\n",
    "the aggregation operations to apply in each case ('count' and 'mean'):"
   ]
  },
  {
   "cell_type": "code",
   "execution_count": 23,
   "metadata": {},
   "outputs": [],
   "source": [
    "fun = {'who':'count','age':'mean'}"
   ]
  },
  {
   "cell_type": "markdown",
   "metadata": {},
   "source": [
    "So now we've defined an aggregation operation that both counts the number of passengers and computes their average age. Let's apply that operation to the rows in the titanic table, grouping them by passenger 'class'. To apply the operation we use the 'agg()' function:\n",
    "\n"
   ]
  },
  {
   "cell_type": "code",
   "execution_count": 26,
   "metadata": {},
   "outputs": [
    {
     "data": {
      "text/html": [
       "<div>\n",
       "<style scoped>\n",
       "    .dataframe tbody tr th:only-of-type {\n",
       "        vertical-align: middle;\n",
       "    }\n",
       "\n",
       "    .dataframe tbody tr th {\n",
       "        vertical-align: top;\n",
       "    }\n",
       "\n",
       "    .dataframe thead th {\n",
       "        text-align: right;\n",
       "    }\n",
       "</style>\n",
       "<table border=\"1\" class=\"dataframe\">\n",
       "  <thead>\n",
       "    <tr style=\"text-align: right;\">\n",
       "      <th></th>\n",
       "      <th>who</th>\n",
       "      <th>age</th>\n",
       "    </tr>\n",
       "    <tr>\n",
       "      <th>class</th>\n",
       "      <th></th>\n",
       "      <th></th>\n",
       "    </tr>\n",
       "  </thead>\n",
       "  <tbody>\n",
       "    <tr>\n",
       "      <th>First</th>\n",
       "      <td>216</td>\n",
       "      <td>38.233441</td>\n",
       "    </tr>\n",
       "    <tr>\n",
       "      <th>Second</th>\n",
       "      <td>184</td>\n",
       "      <td>29.877630</td>\n",
       "    </tr>\n",
       "    <tr>\n",
       "      <th>Third</th>\n",
       "      <td>491</td>\n",
       "      <td>25.140620</td>\n",
       "    </tr>\n",
       "  </tbody>\n",
       "</table>\n",
       "</div>"
      ],
      "text/plain": [
       "        who        age\n",
       "class                 \n",
       "First   216  38.233441\n",
       "Second  184  29.877630\n",
       "Third   491  25.140620"
      ]
     },
     "execution_count": 26,
     "metadata": {},
     "output_type": "execute_result"
    }
   ],
   "source": [
    "groupbyClass = titanic.groupby('class').agg(fun)\n",
    "groupbyClass"
   ]
  },
  {
   "cell_type": "code",
   "execution_count": 27,
   "metadata": {},
   "outputs": [
    {
     "data": {
      "text/html": [
       "<div>\n",
       "<style scoped>\n",
       "    .dataframe tbody tr th:only-of-type {\n",
       "        vertical-align: middle;\n",
       "    }\n",
       "\n",
       "    .dataframe tbody tr th {\n",
       "        vertical-align: top;\n",
       "    }\n",
       "\n",
       "    .dataframe thead th {\n",
       "        text-align: right;\n",
       "    }\n",
       "</style>\n",
       "<table border=\"1\" class=\"dataframe\">\n",
       "  <thead>\n",
       "    <tr style=\"text-align: right;\">\n",
       "      <th></th>\n",
       "      <th>class</th>\n",
       "      <th>passengers</th>\n",
       "      <th>average age</th>\n",
       "    </tr>\n",
       "  </thead>\n",
       "  <tbody>\n",
       "    <tr>\n",
       "      <th>0</th>\n",
       "      <td>First</td>\n",
       "      <td>216</td>\n",
       "      <td>38.233441</td>\n",
       "    </tr>\n",
       "    <tr>\n",
       "      <th>1</th>\n",
       "      <td>Second</td>\n",
       "      <td>184</td>\n",
       "      <td>29.877630</td>\n",
       "    </tr>\n",
       "    <tr>\n",
       "      <th>2</th>\n",
       "      <td>Third</td>\n",
       "      <td>491</td>\n",
       "      <td>25.140620</td>\n",
       "    </tr>\n",
       "  </tbody>\n",
       "</table>\n",
       "</div>"
      ],
      "text/plain": [
       "    class  passengers  average age\n",
       "0   First         216    38.233441\n",
       "1  Second         184    29.877630\n",
       "2   Third         491    25.140620"
      ]
     },
     "execution_count": 27,
     "metadata": {},
     "output_type": "execute_result"
    }
   ],
   "source": [
    "groupbyClass = titanic.groupby('class').agg(fun)\n",
    "# The next line is not complete, think about it and tell me why\n",
    "groupbyClass.rename(\n",
    "    columns={\"who\":\"passengers\", \"age\":\"average age\"},\n",
    "    inplace = True\n",
    ")\n",
    "groupbyClass = groupbyClass.reset_index()\n",
    "groupbyClass"
   ]
  },
  {
   "cell_type": "markdown",
   "metadata": {},
   "source": [
    "Alternatively"
   ]
  },
  {
   "cell_type": "raw",
   "metadata": {},
   "source": [
    "# Do not run, just for alternative\n",
    "groupbyClass = titanic.groupby('class').agg(fun).rename({\"who\":\"passengers\", \"age\":\"average age\"}, axis=1).reset_index()\n",
    "groupbyClass"
   ]
  },
  {
   "cell_type": "markdown",
   "metadata": {},
   "source": [
    "Have a look at the output, which has now been grouped by passenger class. Which class had the most passengers and which one had the oldest passengers on average?\n",
    "\n",
    "**Practice 1a**: Modify the aggregation operation 'fun' above so that it also finds the age of the oldest and youngest passengers in each class. Note that all aggregate operations being applied to the same column need to be placed within the same set of curly braces '{}' and separated by commas ','. So fill in the MISSING parts of the function below:\n",
    "\n",
    "**Solution**:"
   ]
  },
  {
   "cell_type": "code",
   "execution_count": null,
   "metadata": {},
   "outputs": [],
   "source": [
    "# From question\n",
    "# fun2 = {'who':'count','age':{'mean', [MISSING], [MISSING]}}\n",
    "fun2 = {'who':'count', 'age':{'mean','max','min'}}"
   ]
  },
  {
   "cell_type": "code",
   "execution_count": null,
   "metadata": {},
   "outputs": [],
   "source": [
    "groupbyClass2 = titanic.groupby('class').agg(fun2)\n",
    "groupbyClass2 = groupbyClass2.rename({\"who\":\"passengers\"}, axis=1)\n",
    "# It’s incomplete, add in the renaming and re-indexing here also\n",
    "groupbyClass2"
   ]
  },
  {
   "cell_type": "raw",
   "metadata": {},
   "source": [
    "# groupbyClass2 = titanic.groupby('class').agg(fun2)\n",
    "# Show that the rename() can be used in one line and so can the reset_index()\n",
    "# Instead of columes=, can use the axis=1\n",
    "groupbyClass2 = titanic.groupby('class').agg(fun2).rename({\"who\":\"passengers\"}, axis=1)\n",
    "groupbyClass2"
   ]
  },
  {
   "cell_type": "markdown",
   "metadata": {},
   "source": [
    "**Practice 1b**: So was the oldest passenger traveling in 'first', 'second' or 'third' class? \n",
    "\n",
    "**Solution**: First class\n",
    "\n",
    "In order to turn the output of the groupby operation into a DataFrame that can be further manipulated, we need to \"flatten it\" using the 'reset_index()' and 'droplevel()' commands. Have a look at the outputs of the following commands one after the other (by printing out the table each time) to see what they produce. "
   ]
  },
  {
   "cell_type": "code",
   "execution_count": null,
   "metadata": {},
   "outputs": [],
   "source": [
    "groupbyClass2 = groupbyClass2.reset_index()\n",
    "# turn 'class' groups into column values\n",
    "groupbyClass2.columns = groupbyClass2.columns.droplevel(0)\n",
    "# drop the top level in the column hierarchy\n",
    "groupbyClass2"
   ]
  },
  {
   "cell_type": "code",
   "execution_count": null,
   "metadata": {},
   "outputs": [],
   "source": [
    "#groupbyClass2 = groupbyClass2.rename({\"count\":\"passengers\",\"max\":\"max age\", \"min\":\"min age\", \"mean\":\"average age\"}, axis = 1)\n",
    "#groupbyClass2 = groupbyClass2.rename(columns={\"count\":\"passengers\",\"max\":\"max age\", \"min\":\"min age\", \"mean\":\"average age\"})\n",
    "groupbyClass2.rename(columns={\"count\":\"passengers\",\"max\":\"max age\", \"min\":\"min age\", \"mean\":\"average age\"}, inplace = True)\n",
    "groupbyClass2"
   ]
  },
  {
   "cell_type": "markdown",
   "metadata": {},
   "source": [
    "Flattening caused us to lose the column name for the 'class' attribute. We can rename the column as follows:"
   ]
  },
  {
   "cell_type": "code",
   "execution_count": null,
   "metadata": {},
   "outputs": [],
   "source": [
    "groupbyClass2.rename(columns = {'':'class'},inplace = True) # rename the first column to be 'class'\n",
    "groupbyClass2"
   ]
  },
  {
   "cell_type": "markdown",
   "metadata": {},
   "source": [
    "## 1.2 Custom aggregation operations\n",
    "\n",
    "There are many inbuilt functions in Python that can be used to aggregate data over columns. For example the 'nunique' function will count the number of unique values in a list.\n",
    "\n",
    "Sometimes the function we need isn't available, however, because what we are after is too specific. For example, if we have a list of values, we might wish to count only those elements in the list with value above a certain threshold. Using the 'for' syntax in Python we can write an expression to count the elements as follows:"
   ]
  },
  {
   "cell_type": "code",
   "execution_count": null,
   "metadata": {},
   "outputs": [],
   "source": [
    "my_list = (80,20,64,19,56,12,88)\n",
    "sum(e>50 for e in my_list)"
   ]
  },
  {
   "cell_type": "markdown",
   "metadata": {},
   "source": [
    "The expression is checking for each element 'e' in 'my_list' whether the value is greater than 50 or not, the sum() function is then counting the number of times the greater-than expression returns TRUE (i.e. the value 1). \n",
    "\n",
    "Now that we have a piece of code that can count the number of values that fit a condition, we'd like to use it in an aggregation operation over a column of a DataFrame. We can do that using an anonymous function (called a lambda function) in Python. The syntax to create an anonymous function is to write 'lambda x:' followed by the function itself, where 'x' is the name of the variable that appears in the function:"
   ]
  },
  {
   "cell_type": "code",
   "execution_count": null,
   "metadata": {},
   "outputs": [],
   "source": [
    "fun3 = {'age':{'nunique',lambda x: sum(e>50 for e in x)}}"
   ]
  },
  {
   "cell_type": "markdown",
   "metadata": {},
   "source": [
    "So we have defined a new aggregation operation 'fun3', which will create two new columns, a 'unique age count' column that counts the number of distinct values in the 'age' column using the function 'nunique' and a 'over 50s count' column that counts the number of values in the 'age' column that are greater than 50.\n",
    "\n",
    "Again, we can reformat the DataFrame so it's ready for use:"
   ]
  },
  {
   "cell_type": "code",
   "execution_count": null,
   "metadata": {},
   "outputs": [],
   "source": [
    "groupbyClass3 = titanic.groupby('class').agg(fun3).reset_index()  # turn groups into column values\n",
    "groupbyClass3.columns = groupbyClass3.columns.droplevel(0)        # drop the top level in column hierarchy\n",
    "groupbyClass3.rename(\n",
    "    columns = {\n",
    "        '':'class',\n",
    "        'nunique':'unique age count',\n",
    "        '<lambda_0>':'over 50s count'},\n",
    "    inplace = True\n",
    ")\n",
    "groupbyClass3                                                    # print out the table"
   ]
  },
  {
   "cell_type": "markdown",
   "metadata": {},
   "source": [
    "**Practice 2**: Interpret the output and discuss your finding with other students.\n",
    "\n",
    "## 2. Data Visualization\n",
    "\n",
    "In order to plot data in Python, we use the 'matplotlib' library: "
   ]
  },
  {
   "cell_type": "code",
   "execution_count": null,
   "metadata": {},
   "outputs": [],
   "source": [
    "import matplotlib.pylab as plt"
   ]
  },
  {
   "cell_type": "markdown",
   "metadata": {},
   "source": [
    "When using Python in a Jupyter Notebook, you need to add also the following 'magic line' to make sure that graphs are shown inline in the notebook."
   ]
  },
  {
   "cell_type": "code",
   "execution_count": null,
   "metadata": {},
   "outputs": [],
   "source": [
    "%matplotlib inline"
   ]
  },
  {
   "cell_type": "markdown",
   "metadata": {},
   "source": [
    "### 2.1 Basic Plots\n",
    "\n",
    "We'll continue to use titanic data set and let's call the 'plot' routine to have a look at the data:"
   ]
  },
  {
   "cell_type": "code",
   "execution_count": null,
   "metadata": {},
   "outputs": [],
   "source": [
    "plt.plot(titanic.fare)\n",
    "plt.show()"
   ]
  },
  {
   "cell_type": "markdown",
   "metadata": {},
   "source": [
    "The figure looks a little complicated, but it is just plotting the fare for each passenger.\n",
    "\n",
    "#### Practice 3: \n",
    "How many passengers were there in total?\n",
    "\n",
    "**Solution**:"
   ]
  },
  {
   "cell_type": "code",
   "execution_count": null,
   "metadata": {},
   "outputs": [],
   "source": [
    "len(titanic['fare'])\n",
    "\n",
    "titanic.shape"
   ]
  },
  {
   "cell_type": "markdown",
   "metadata": {},
   "source": [
    "### 2.2 Histogram\n",
    "More informative in this case would be to look at the distribution over fares. We can visualise the distribution by plotting a histogram."
   ]
  },
  {
   "cell_type": "code",
   "execution_count": null,
   "metadata": {},
   "outputs": [],
   "source": [
    "titanic.fare.hist(bins = 10) # try different numbers of bins \n",
    "plt.xlim(0,300)               # setting limit on x-axis\n",
    "plt.ylim(0,350)               # setting limit on y-axis"
   ]
  },
  {
   "cell_type": "markdown",
   "metadata": {},
   "source": [
    "**Practice 4**: Reduce the x-axis limit to see how much most people paid to go on the titanic. Approximately how many people paid 10 or less? \n",
    "\n",
    "**Solution**:"
   ]
  },
  {
   "cell_type": "code",
   "execution_count": null,
   "metadata": {},
   "outputs": [],
   "source": [
    "titanic.fare.hist(bins = 10) # try different numbers of bins \n",
    "plt.xlim(0,300)               # setting limit on x-axis\n",
    "plt.ylim(0,350)               # setting limit on y-axis"
   ]
  },
  {
   "cell_type": "markdown",
   "metadata": {},
   "source": [
    "(x-axis shows the fare, y-axis shows the frequency)\n",
    "\n",
    "Approximately 330-340 passengers paid 10 or less"
   ]
  },
  {
   "cell_type": "markdown",
   "metadata": {},
   "source": [
    "### 2.3 Boxplot\n",
    "\n",
    "Alternatively, we can use a boxplot (also called a box and whisker diagram) to visualise the same data. A boxplot is a simple visual representation of key features of a univariate sample. It displays five-point summaries and potential outliers in graphical form. To create a boxplot we call:"
   ]
  },
  {
   "cell_type": "code",
   "execution_count": null,
   "metadata": {},
   "outputs": [],
   "source": [
    "titanic.boxplot(column = 'fare')\n",
    "plt.ylim(0, 150) # setting limit on y-axis"
   ]
  },
  {
   "cell_type": "markdown",
   "metadata": {},
   "source": [
    "The red line across the centre of the box indicates the median value, i.e. half the data lies below the red line and half lies above it. The box itself defines the quartiles -- one quarter of the data lies above the box, and another quarter below it. We can see many high 'fare' values to the top of the graph. One might assume they are outliers, but it probably makes more sense to first investigate the different classes. We can generate boxplots divided by class, as follows:"
   ]
  },
  {
   "cell_type": "code",
   "execution_count": null,
   "metadata": {},
   "outputs": [],
   "source": [
    "titanic.boxplot(column = 'fare', by = 'class')\n",
    "plt.ylim(0, 600)"
   ]
  },
  {
   "cell_type": "markdown",
   "metadata": {},
   "source": [
    "If we wanted to, we could filter out the large values in the different classes. For example, to filter out values greater than 160 in first class:"
   ]
  },
  {
   "cell_type": "code",
   "execution_count": null,
   "metadata": {},
   "outputs": [],
   "source": [
    "filt = ~((titanic['class'] == 'First') & (titanic['fare'] > 160))\n",
    "titanic = titanic[filt]\n",
    "titanic.boxplot(column = 'fare', by = 'class')\n",
    "plt.ylim(0, 600)"
   ]
  },
  {
   "cell_type": "markdown",
   "metadata": {},
   "source": [
    "**Practice 5**: Use the same technique to filter out values greater than 50 for the second class and 30 for the third class. Plot the boxplot, and observe the graph. What is the median price for each class? Hint: set a lower y-axis limit to see clearer. \n",
    "\n",
    "**Solution**:"
   ]
  },
  {
   "cell_type": "code",
   "execution_count": null,
   "metadata": {},
   "outputs": [],
   "source": [
    "# Filter out fares greater than 50 for the second class\n",
    "filt2 = ~((titanic['class'] == 'Second') & (titanic['fare'] > 50))\n",
    "titanic = titanic[filt2]\n",
    "\n",
    "# Filter out fares greater than 30 for the third class\n",
    "filt3 = ~((titanic['class'] == 'Third') & (titanic['fare'] > 30))\n",
    "titanic = titanic[filt3]"
   ]
  },
  {
   "cell_type": "code",
   "execution_count": null,
   "metadata": {},
   "outputs": [],
   "source": [
    "titanic.boxplot(column = 'fare', by = 'class')\n",
    "plt.ylim(0, 20)"
   ]
  },
  {
   "cell_type": "markdown",
   "metadata": {},
   "source": [
    "Median by class:\n",
    "1. First Class - 55\n",
    "2. Second Class - 14\n",
    "3. Third Class - 8"
   ]
  },
  {
   "cell_type": "markdown",
   "metadata": {},
   "source": [
    "### 2.4 Bar Chart\n",
    "We can compare the fare for different classes and for children/adults using a bar chart.\n",
    "\n",
    "**Practice 6a**: Fill in the missing code to make the aggregation function below count the number of children (age under 18) and adults (age 18 or over) in the different classes\n",
    "\n",
    "**Solution**:\n"
   ]
  },
  {
   "cell_type": "code",
   "execution_count": null,
   "metadata": {},
   "outputs": [],
   "source": [
    "fun_child_adult = {'age':{lambda x: sum(e<18 for e in x), lambda x: sum(e>=18 for e in x)}}"
   ]
  },
  {
   "cell_type": "markdown",
   "metadata": {},
   "source": [
    "**Practice 6b**: Now follow the steps from Section 1.2 to group the 'titanic' data by class, and apply the above aggregation function to it. Call the resulting DataFrame 'groupbyClass2' and display it:\n",
    "\n",
    "**Solution**:"
   ]
  },
  {
   "cell_type": "code",
   "execution_count": null,
   "metadata": {},
   "outputs": [],
   "source": [
    "groupbyClass2 = titanic.groupby('class').agg(fun_child_adult)\n",
    "groupbyClass2"
   ]
  },
  {
   "cell_type": "code",
   "execution_count": null,
   "metadata": {},
   "outputs": [],
   "source": [
    "groupbyClass2.rename(\n",
    "    columns = {\n",
    "        '<lambda_0>':'child count',\n",
    "        '<lambda_1>':'adult count'\n",
    "    }, \n",
    "    inplace = True)\n",
    "groupbyClass2"
   ]
  },
  {
   "cell_type": "code",
   "execution_count": null,
   "metadata": {},
   "outputs": [],
   "source": [
    "# Old stuff\n",
    "groupbyClass2 = groupbyClass2.reset_index()                  # turn 'class' groups into column values\n",
    "groupbyClass2.columns = groupbyClass2.columns.droplevel(0)   # drop the top level in the column hierarchy\n",
    "groupbyClass2.rename(columns = {'':'class'},inplace = True)\n",
    "groupbyClass2"
   ]
  },
  {
   "cell_type": "markdown",
   "metadata": {},
   "source": [
    "We'll now display the aggregated counts as a bar chart."
   ]
  },
  {
   "cell_type": "code",
   "execution_count": null,
   "metadata": {},
   "outputs": [],
   "source": [
    "ax=groupbyClass2.plot.bar(figsize=(8,5))# figsize sets size of plot\n",
    "ax.set_xticklabels(groupbyClass2['class'],rotation=45)# use values of column 'class' as the x axis labels. Remove this line of code to see what will happen if we do not have this line\n",
    "plt.xlabel('Ticket Class')# setting a label for x axis\n",
    "plt.ylabel('Number of Passengers(child or adult)')# Setting a label for y axis\n",
    "plt.title('Passengers ticket class based on their adulthood')# Setting the title of chart"
   ]
  },
  {
   "cell_type": "markdown",
   "metadata": {},
   "source": [
    "**Practice 7**: So which class had the most families do you think?\n",
    "\n",
    "**Solution**: Third class\n"
   ]
  },
  {
   "cell_type": "markdown",
   "metadata": {},
   "source": [
    "### 2.6 Pie Chart:\n",
    "\n",
    "**Practice 8**: Use the groupbyClass2 below to plot a pie chart, showing the number of children in each passenger class ('child count' column)."
   ]
  },
  {
   "cell_type": "markdown",
   "metadata": {},
   "source": [
    "**Solution**"
   ]
  },
  {
   "cell_type": "code",
   "execution_count": null,
   "metadata": {},
   "outputs": [],
   "source": [
    "groupbyClass2['child count']"
   ]
  },
  {
   "cell_type": "code",
   "execution_count": null,
   "metadata": {},
   "outputs": [],
   "source": [
    "plt.pie(groupbyClass2['child count'])\n",
    "#groupbyClass2.plot.pie(y=['child count'])\n",
    "plt.show()"
   ]
  },
  {
   "cell_type": "markdown",
   "metadata": {},
   "source": [
    "### 2.7 Scatter Plot\n",
    "\n",
    "Input a simple data frame."
   ]
  },
  {
   "cell_type": "code",
   "execution_count": null,
   "metadata": {},
   "outputs": [],
   "source": [
    "df = pd.DataFrame({'Name' : ['Mike','Aaron','Brad','Steve','George','Mitchell','Shaun','Glenn','Pat','Robert','David'],\n",
    "'Age' : [39,28,44,25,32,33,31,26,22,25,28],\n",
    "'Runs' :[1310,662,1403,828,672,1140,655,1040,557,1030,1140]})\n",
    "df"
   ]
  },
  {
   "cell_type": "markdown",
   "metadata": {},
   "source": [
    "Let's have a quick look at the data by plotting it using an x-y scatter plot:"
   ]
  },
  {
   "cell_type": "code",
   "execution_count": null,
   "metadata": {},
   "outputs": [],
   "source": [
    "plt.scatter(df['Age'], df['Runs'])\n",
    "plt.show()"
   ]
  },
  {
   "cell_type": "markdown",
   "metadata": {},
   "source": [
    "**Practice 9**: We now have two views of the same data, the table (DataFrame) view and the plot. What information do you gain/lose in these different views?\n",
    "\n",
    "**Solution**:\n"
   ]
  },
  {
   "cell_type": "markdown",
   "metadata": {},
   "source": [
    "## Basic plots"
   ]
  },
  {
   "cell_type": "code",
   "execution_count": null,
   "metadata": {},
   "outputs": [],
   "source": [
    "plt.scatter(df['Age'], df['Runs'])\n",
    "plt.show()"
   ]
  },
  {
   "cell_type": "code",
   "execution_count": null,
   "metadata": {},
   "outputs": [],
   "source": [
    "plt.plot(df['Age'])\n",
    "plt.show()"
   ]
  },
  {
   "cell_type": "markdown",
   "metadata": {},
   "source": [
    "Histograms"
   ]
  },
  {
   "cell_type": "code",
   "execution_count": null,
   "metadata": {},
   "outputs": [],
   "source": [
    "df.Age.hist(bins=2)\n",
    "plt.show()"
   ]
  },
  {
   "cell_type": "markdown",
   "metadata": {},
   "source": [
    "Boxplots"
   ]
  },
  {
   "cell_type": "code",
   "execution_count": null,
   "metadata": {},
   "outputs": [],
   "source": [
    "df.boxplot(column='Age')\n",
    "plt.show()"
   ]
  },
  {
   "cell_type": "markdown",
   "metadata": {},
   "source": [
    "Bars"
   ]
  },
  {
   "cell_type": "code",
   "execution_count": null,
   "metadata": {},
   "outputs": [],
   "source": [
    "plt.bar((1,2,3,4,5,6,7,8,9,10,11),df['Runs'])\n",
    "plt.show()"
   ]
  },
  {
   "cell_type": "code",
   "execution_count": null,
   "metadata": {},
   "outputs": [],
   "source": []
  }
 ],
 "metadata": {
  "kernelspec": {
   "display_name": "Python 3.10.7 64-bit",
   "language": "python",
   "name": "python3"
  },
  "language_info": {
   "codemirror_mode": {
    "name": "ipython",
    "version": 3
   },
   "file_extension": ".py",
   "mimetype": "text/x-python",
   "name": "python",
   "nbconvert_exporter": "python",
   "pygments_lexer": "ipython3",
   "version": "3.10.7"
  },
  "vscode": {
   "interpreter": {
    "hash": "b9245462a4367fe83f31bd779577d05879041678598999bc9781002e0e3f6007"
   }
  }
 },
 "nbformat": 4,
 "nbformat_minor": 2
}
