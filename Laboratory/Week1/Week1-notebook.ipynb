{
 "cells": [
  {
   "attachments": {},
   "cell_type": "markdown",
   "metadata": {},
   "source": [
    "# Activity 1: Jupyter Notebook and Python Basics\n",
    "\n",
    "In this activity you will first learn how to use Jupyter Notebook. You will then learn a very basic set of Python commands in Jupyter Notebook.\n",
    "\n",
    "So far you should have successfuly installed anaconda, launched Jupyter Notebook, and created your new Python 3 notebook. \n",
    "\n",
    "\n",
    "## Jupyter Notebook\n",
    "### Getting to Know your Jupyter Notebook's Toolbar\n",
    "Now let's explore Notebook's toobar:\n",
    "\n",
    "|Button|Function| \n",
    "|--|--|\n",
    "| <img src=\"images/jupytertoolbarsave.PNG\"> |This is your save button. You can click this button to save your notebook at any time, though keep in mind that Jupyter Notebooks automatically save your progress very frequently.|\n",
    "| <img src=\"images/jupytertoolbarnewcell.PNG\"> |This is the new cell button. You can click this button any time you want a new cell in your Jupyter Notebook.|\n",
    "| <img src=\"images/jupytertoolbarcutcell.PNG\"> |This is the cut cell button. If you click this button, the cell you currently have selected will be deleted from your Notebook.|\n",
    "| <img src=\"images/jupytertoolbarcopycell.PNG\"> |This is the copy cell button. If you click this button, the currently selected cell will be duplicated and stored in your clipboard.|\n",
    "| <img src=\"images/jupytertoolbarpastecell.PNG\"> |This is the past button. It allows you to paste the duplicated cell from your clipboard into your notebook.|\n",
    "| <img src=\"images/jupytertoolbarupdown.PNG\"> |These buttons allow you to move the location of a selected cell within a Notebook. Simply select the cell you wish to move and click either the up or down button until the cell is in the location you want it to be.|\n",
    "| <img src=\"images/jupytertoolbarrun.PNG\"> |This button will \"run\" your cell, meaning that it will interpret your input and render the output in a way that depends on what kind of cell you're using.|\n",
    "| <img src=\"images/jupytertoolbarstop.PNG\"> |This is the stop button. Clicking this button will stop your cell from continuing to run. This tool can be useful if you are trying to execute more complicated code, which can sometimes take a while, and you want to edit the cell before waiting for it to finish rendering.|\n",
    "| <img src=\"images/jupytertoolbarrestartkernel.PNG\"> |This is the restart kernel button.|\n",
    "| <img src=\"images/jupytertoolbarcellkind.PNG\"> |This is a drop down menu which allows you to tell your Notebook how you want it to interpret any given cell. You can read more about the different kinds of cells in the following section.|\n",
    "\n",
    "### Different kinds of cells\n",
    "\n",
    "1. Code Cells\n",
    "By default, Jupyter Notebooks' Code Cells will execute Python. Jupyter Notebooks generally also support JavaScript, Python, HTML, and Bash commands. \n",
    "\n",
    "2. Markdown Cells\n",
    "In Jupyter Notebooks, Markdown Cells are the easiest way to write and format text.\n",
    "\n",
    "3. Header Cells\n",
    "Header Cells provide a more deeply structural organization for your Notebook and thus there are several advantages to using them.\n",
    "\n",
    "## Python Basics\n",
    "The following codes are refresher for those who are familiar and are useful for those who are just starting out.  "
   ]
  },
  {
   "cell_type": "markdown",
   "metadata": {},
   "source": [
    "### Hello World"
   ]
  },
  {
   "cell_type": "code",
   "execution_count": 1,
   "metadata": {},
   "outputs": [
    {
     "name": "stdout",
     "output_type": "stream",
     "text": [
      "Hello, World!\n"
     ]
    }
   ],
   "source": [
    "print(\"Hello, World!\")"
   ]
  },
  {
   "cell_type": "code",
   "execution_count": 25,
   "metadata": {
    "scrolled": true
   },
   "outputs": [
    {
     "name": "stdout",
     "output_type": "stream",
     "text": [
      "Hello, World!\n"
     ]
    }
   ],
   "source": [
    "# this is our one line comment\n",
    "print(\"Hello, World!\")"
   ]
  },
  {
   "cell_type": "markdown",
   "metadata": {},
   "source": [
    "### Arithmetic Operators"
   ]
  },
  {
   "cell_type": "code",
   "execution_count": 26,
   "metadata": {},
   "outputs": [
    {
     "name": "stdout",
     "output_type": "stream",
     "text": [
      "4.0\n",
      "8\n",
      "1\n"
     ]
    }
   ],
   "source": [
    "print(1 + 2 * 3/2)\n",
    "print(2 ** 3)\n",
    "print(22 % 3)"
   ]
  },
  {
   "cell_type": "code",
   "execution_count": 27,
   "metadata": {},
   "outputs": [
    {
     "name": "stdout",
     "output_type": "stream",
     "text": [
      "6\n",
      "hellohellohellohellohellohellohellohellohellohello\n"
     ]
    }
   ],
   "source": [
    "print(2 * 3)\n",
    "print(\"hello\" * 10)"
   ]
  },
  {
   "cell_type": "code",
   "execution_count": 28,
   "metadata": {},
   "outputs": [
    {
     "name": "stdout",
     "output_type": "stream",
     "text": [
      "hello friend\n"
     ]
    }
   ],
   "source": [
    "print('hello','friend')"
   ]
  },
  {
   "cell_type": "markdown",
   "metadata": {},
   "source": [
    "### Variables and Data Types"
   ]
  },
  {
   "cell_type": "markdown",
   "metadata": {},
   "source": [
    "### 1.Number"
   ]
  },
  {
   "cell_type": "code",
   "execution_count": 2,
   "metadata": {},
   "outputs": [
    {
     "name": "stdout",
     "output_type": "stream",
     "text": [
      "2019\n"
     ]
    }
   ],
   "source": [
    "#Number\n",
    "currentYear=2019\n",
    "print(currentYear)\n"
   ]
  },
  {
   "cell_type": "markdown",
   "metadata": {},
   "source": [
    "### 2. String"
   ]
  },
  {
   "cell_type": "code",
   "execution_count": 30,
   "metadata": {
    "scrolled": true
   },
   "outputs": [
    {
     "name": "stdout",
     "output_type": "stream",
     "text": [
      "Welcome to FIT1043\n"
     ]
    }
   ],
   "source": [
    "#String\n",
    "sampleString = 'Welcome to FIT1043'\n",
    "print(sampleString)"
   ]
  },
  {
   "cell_type": "code",
   "execution_count": 31,
   "metadata": {},
   "outputs": [
    {
     "name": "stdout",
     "output_type": "stream",
     "text": [
      "Welcome to FIT1043 in semester 2 of 2019\n"
     ]
    }
   ],
   "source": [
    "#Combining strings\n",
    "print(sampleString+ ' in semester 2 of '+str(currentYear))"
   ]
  },
  {
   "cell_type": "markdown",
   "metadata": {},
   "source": [
    "### 3.List"
   ]
  },
  {
   "cell_type": "code",
   "execution_count": 32,
   "metadata": {},
   "outputs": [],
   "source": [
    "#create an empty list\n",
    "newLst=[]"
   ]
  },
  {
   "cell_type": "code",
   "execution_count": 33,
   "metadata": {},
   "outputs": [],
   "source": [
    "# add items to the list\n",
    "newLst.append(1)\n",
    "newLst.append(2)\n",
    "newLst.append(2)\n",
    "newLst.append('hi')"
   ]
  },
  {
   "cell_type": "code",
   "execution_count": 34,
   "metadata": {},
   "outputs": [
    {
     "data": {
      "text/plain": [
       "[1, 2, 2, 'hi']"
      ]
     },
     "execution_count": 34,
     "metadata": {},
     "output_type": "execute_result"
    }
   ],
   "source": [
    "#see the list content\n",
    "newLst"
   ]
  },
  {
   "cell_type": "code",
   "execution_count": 35,
   "metadata": {},
   "outputs": [
    {
     "data": {
      "text/plain": [
       "2"
      ]
     },
     "execution_count": 35,
     "metadata": {},
     "output_type": "execute_result"
    }
   ],
   "source": [
    "#access to list items\n",
    "newLst[2]"
   ]
  },
  {
   "cell_type": "markdown",
   "metadata": {},
   "source": [
    "#### Hint: Index starts from 0 in python"
   ]
  },
  {
   "cell_type": "code",
   "execution_count": 36,
   "metadata": {},
   "outputs": [
    {
     "data": {
      "text/plain": [
       "[1, 2, 'hi']"
      ]
     },
     "execution_count": 36,
     "metadata": {},
     "output_type": "execute_result"
    }
   ],
   "source": [
    "#Remove an item from the list:remove removes the first matching value, not a specific index\n",
    "newLst.remove(2)\n",
    "newLst"
   ]
  },
  {
   "cell_type": "code",
   "execution_count": 37,
   "metadata": {},
   "outputs": [
    {
     "data": {
      "text/plain": [
       "[2, 'hi']"
      ]
     },
     "execution_count": 37,
     "metadata": {},
     "output_type": "execute_result"
    }
   ],
   "source": [
    "#delete an item from the list: Dlete the item basd on its index\n",
    "del newLst[0]\n",
    "newLst"
   ]
  },
  {
   "cell_type": "code",
   "execution_count": 38,
   "metadata": {},
   "outputs": [
    {
     "data": {
      "text/plain": [
       "2"
      ]
     },
     "execution_count": 38,
     "metadata": {},
     "output_type": "execute_result"
    }
   ],
   "source": [
    "# see how many items exist in the list\n",
    "len(newLst)"
   ]
  },
  {
   "cell_type": "markdown",
   "metadata": {},
   "source": [
    "### Conditions"
   ]
  },
  {
   "cell_type": "code",
   "execution_count": 39,
   "metadata": {},
   "outputs": [
    {
     "name": "stdout",
     "output_type": "stream",
     "text": [
      "True\n"
     ]
    }
   ],
   "source": [
    "print(currentYear==2019)"
   ]
  },
  {
   "cell_type": "code",
   "execution_count": 40,
   "metadata": {},
   "outputs": [
    {
     "name": "stdout",
     "output_type": "stream",
     "text": [
      "False\n"
     ]
    }
   ],
   "source": [
    "print(currentYear!=2019)"
   ]
  },
  {
   "cell_type": "code",
   "execution_count": 41,
   "metadata": {},
   "outputs": [
    {
     "name": "stdout",
     "output_type": "stream",
     "text": [
      "2019 is the current year\n"
     ]
    }
   ],
   "source": [
    "if currentYear==2019:\n",
    "    print('2019 is the current year')"
   ]
  },
  {
   "cell_type": "code",
   "execution_count": 42,
   "metadata": {},
   "outputs": [
    {
     "name": "stdout",
     "output_type": "stream",
     "text": [
      "The value of variable currentYear is 2019\n"
     ]
    }
   ],
   "source": [
    "#If operator\n",
    "if currentYear==2019:\n",
    "    print('The value of variable currentYear is 2019')\n",
    "else:\n",
    "    print('The value of variable currentYear is NOT 2019')"
   ]
  },
  {
   "cell_type": "code",
   "execution_count": 45,
   "metadata": {},
   "outputs": [
    {
     "name": "stdout",
     "output_type": "stream",
     "text": [
      "The value of variable currentYear is either 2019 or 2018\n"
     ]
    }
   ],
   "source": [
    "#In operator\n",
    "if currentYear in [2019,2018]:\n",
    "    print('The value of variable currentYear is either 2019 or 2018')\n",
    "else:\n",
    "    print('The value of variable currentYear is neither 2019 nor 2018')"
   ]
  },
  {
   "cell_type": "markdown",
   "metadata": {},
   "source": [
    "### Input"
   ]
  },
  {
   "cell_type": "code",
   "execution_count": 47,
   "metadata": {},
   "outputs": [
    {
     "name": "stdout",
     "output_type": "stream",
     "text": [
      "Please enter your age: 35\n",
      "You were born in 1984\n"
     ]
    }
   ],
   "source": [
    "birthYear=input('Please enter your age: ')\n",
    "print('You were born in',2019-int(birthYear))"
   ]
  },
  {
   "cell_type": "markdown",
   "metadata": {},
   "source": [
    "#### Problem, we have hard coded 2019! How can we make it dynamic?"
   ]
  },
  {
   "cell_type": "markdown",
   "metadata": {},
   "source": [
    "## Python Packages"
   ]
  },
  {
   "cell_type": "markdown",
   "metadata": {},
   "source": [
    "### Package installation via Jupyter NoteBook\n",
    "!pip install packageName\n",
    "\n",
    "Example: !pip install pandas, seaborn,..\n",
    "### Import Package \n",
    "import packageName\n",
    "\n",
    "Example: import pandas, seaborn,.."
   ]
  },
  {
   "cell_type": "code",
   "execution_count": 49,
   "metadata": {},
   "outputs": [],
   "source": [
    "import datetime\n",
    "now = datetime.datetime.now()"
   ]
  },
  {
   "cell_type": "code",
   "execution_count": 50,
   "metadata": {},
   "outputs": [
    {
     "name": "stdout",
     "output_type": "stream",
     "text": [
      "Please enter your age: 35\n",
      "You were born in 1984\n"
     ]
    }
   ],
   "source": [
    "birthYear=input('Please enter your age: ')\n",
    "print('You were born in',now.year-int(birthYear))"
   ]
  },
  {
   "cell_type": "markdown",
   "metadata": {},
   "source": [
    "# Congratulations! You are now ready to attend Lecture week 2."
   ]
  },
  {
   "cell_type": "code",
   "execution_count": null,
   "metadata": {},
   "outputs": [],
   "source": []
  }
 ],
 "metadata": {
  "interpreter": {
   "hash": "aee8b7b246df8f9039afb4144a1f6fd8d2ca17a180786b69acc140d282b71a49"
  },
  "kernelspec": {
   "display_name": "Python 3.6.5 64-bit",
   "language": "python",
   "name": "python3"
  },
  "language_info": {
   "codemirror_mode": {
    "name": "ipython",
    "version": 3
   },
   "file_extension": ".py",
   "mimetype": "text/x-python",
   "name": "python",
   "nbconvert_exporter": "python",
   "pygments_lexer": "ipython3",
   "version": "3.10.6"
  }
 },
 "nbformat": 4,
 "nbformat_minor": 2
}
